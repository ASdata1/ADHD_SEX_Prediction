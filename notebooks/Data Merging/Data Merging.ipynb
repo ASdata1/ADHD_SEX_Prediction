{
 "cells": [
  {
   "cell_type": "markdown",
   "id": "a99c885f",
   "metadata": {},
   "source": [
    "## Uploading Data \n",
    "\n",
    "Uploading Categorical, Quantitative and Connectome Data"
   ]
  },
  {
   "cell_type": "code",
   "execution_count": 1,
   "id": "e821b4e6",
   "metadata": {},
   "outputs": [],
   "source": [
    "import pandas as pd"
   ]
  },
  {
   "cell_type": "code",
   "execution_count": 2,
   "id": "25e6f3ef",
   "metadata": {},
   "outputs": [],
   "source": [
    "quant_data= pd.read_excel(\"C:\\\\Users\\\\04ama\\\\Downloads\\\\TRAIN_QUANTITATIVE_METADATA_new.xlsx\")\n",
    "cat_data = pd.read_excel(\"C:\\\\Users\\\\04ama\\\\Downloads\\\\TRAIN_CATEGORICAL_METADATA_new.xlsx\")\n",
    "conn_data = pd.read_csv(\"C:\\\\Users\\\\04ama\\\\Downloads\\\\TRAIN_FUNCTIONAL_CONNECTOME_MATRICES_new_36P_Pearson (1).csv\")\n",
    "target_data = pd.read_excel(\"C:\\\\Users\\\\04ama\\\\Downloads\\\\TRAINING_SOLUTIONS (1).xlsx\")\n"
   ]
  },
  {
   "cell_type": "code",
   "execution_count": 3,
   "id": "78f1c7f3",
   "metadata": {},
   "outputs": [
    {
     "name": "stdout",
     "output_type": "stream",
     "text": [
      "Data shapes:\n",
      "Connectome: (1213, 19901)\n",
      "Quantitative: (1213, 19)\n",
      "Categorical: (1213, 10)\n",
      "Target: (1213, 3)\n"
     ]
    }
   ],
   "source": [
    "print(\"Data shapes:\")\n",
    "print(f\"Connectome: {conn_data.shape}\")\n",
    "print(f\"Quantitative: {quant_data.shape}\")  \n",
    "print(f\"Categorical: {cat_data.shape}\")\n",
    "print(f\"Target: {target_data.shape}\")"
   ]
  },
  {
   "cell_type": "code",
   "execution_count": 4,
   "id": "c66f018d",
   "metadata": {},
   "outputs": [],
   "source": [
    "#merging the datasets on participant_id\n",
    "merged_data = pd.merge(conn_data, quant_data, on=\"participant_id\")\n",
    "df = pd.merge(merged_data, cat_data, on=\"participant_id\")\n",
    "df = pd.merge(df, target_data, on=\"participant_id\") \n",
    "\n"
   ]
  },
  {
   "cell_type": "code",
   "execution_count": 5,
   "id": "5f6fbbf2",
   "metadata": {},
   "outputs": [],
   "source": [
    "df.drop(columns='Sex_F', inplace=True)"
   ]
  },
  {
   "cell_type": "code",
   "execution_count": 6,
   "id": "a959b123",
   "metadata": {},
   "outputs": [
    {
     "name": "stdout",
     "output_type": "stream",
     "text": [
      "\n",
      "Final merged data shape: (1213, 19929)\n"
     ]
    }
   ],
   "source": [
    "print(f\"\\nFinal merged data shape: {df.shape}\")\n"
   ]
  },
  {
   "cell_type": "code",
   "execution_count": null,
   "id": "f07153ff",
   "metadata": {},
   "outputs": [],
   "source": []
  },
  {
   "cell_type": "markdown",
   "id": "80633141",
   "metadata": {},
   "source": [
    "DONE"
   ]
  }
 ],
 "metadata": {
  "kernelspec": {
   "display_name": "base",
   "language": "python",
   "name": "python3"
  },
  "language_info": {
   "codemirror_mode": {
    "name": "ipython",
    "version": 3
   },
   "file_extension": ".py",
   "mimetype": "text/x-python",
   "name": "python",
   "nbconvert_exporter": "python",
   "pygments_lexer": "ipython3",
   "version": "3.12.7"
  }
 },
 "nbformat": 4,
 "nbformat_minor": 5
}
